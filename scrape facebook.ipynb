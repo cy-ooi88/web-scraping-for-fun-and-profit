{
 "cells": [
  {
   "cell_type": "markdown",
   "metadata": {},
   "source": [
    "# Scrape Facebook Like a Boss with ```Selenium``` & ```BeautifulSoup```\n",
    "\n",
    "<div align=\"center\">\n",
    "    <img src='./images/1.png' width=1000>   <!-- Markdown doesn't allow centering of images :( -->\n",
    "</div>\n",
    "\n",
    "Social media sites are... _way harder_ to scrape than your average ```Selenium``` and ```BeautifulSoup``` tutorials. Don't get me wrong, those tutorials brought hours and hours of fun and joy and braingasms and ecstasies for me, so they are immensely useful - especially if you like to stare at data for hours. 😵😵😵😵\n",
    "\n",
    "### Before you proceed:\n",
    "\n",
    "Scraping Facebook is _not exactly legal_. So do this at your own risk.\n",
    "\n",
    "# Step 0. Preamble\n",
    "\n",
    "<div align=\"center\">\n",
    "    <img src='./images/pexels-lovefood-art-1437590.jpg' height=600>   <!-- Markdown doesn't allow centering of images :( -->\n",
    "    <h6>Credit: <a href=https://www.pexels.com/photo/shrimp-soup-in-white-ceramic-bowl-with-chili-on-brown-wooden-surface-1437590/>Lovefood Art on Pexels</a></h6>\n",
    "</div>\n",
    "\n",
    "Look, no humans can resist spicy, sweet gallangal, kaffir lime and leaves packed into a bowl of thick Tom Yam Goong broth exploding in your mouth. But the pandemic means you can't travel to Bangkok or Hatyai to fill your belly with Pad Gaprao, Moo Ping, Tom Yam Goong, Khao Kha Moo, Som Tam......\n",
    "\n",
    "So you decided to open up a Thai food business, to serve the market full of raging, hungry Thai food lovers (which means _practically everybody_).\n",
    "\n",
    "You decided to do some research on social media, and you found a popular Facebook Group: [Authentic Thai Cooking](https://www.facebook.com/groups/authenticthaicooking).\n",
    "\n",
    "Within a few minutes, you are swarmed with all the tasty looking pictures. You are even more confused - what items should you include in your new restaurant menu? How spicy your Tom Yam Goong should be? All these questions only means you need a data oriented approach.\n",
    "\n",
    "As a start, you decided to harvest all the posts that the nice folks in the group writes, and do exploratory data analysis.\n",
    "\n",
    "### Here's the game plan...\n",
    "\n",
    "Before you fire up your code editor to write code, hold your ~~Tom Yams~~ horses. Here's the game plan:\n",
    "\n",
    "<div align=\"center\">\n",
    "    <img src='./images/2.png' width=1000>   <!-- Markdown doesn't allow centering of images :( -->\n",
    "</div>\n",
    "\n",
    "Alright, sounds like a plan. Let's do this!\n",
    "\n",
    "# Step 1. Let's log in Facebook\n",
    "\n",
    "Finally, some code."
   ]
  },
  {
   "cell_type": "code",
   "execution_count": 1,
   "metadata": {},
   "outputs": [],
   "source": [
    "# import the necessary libraries\n",
    "from selenium import webdriver                        # to run the browser window\n",
    "from selenium.webdriver.common.keys import Keys       # to send keys to the login screen\n",
    "from selenium.webdriver.chrome.options import Options # set options to avoid annoying behaviours\n",
    "from bs4 import BeautifulSoup                         # to parse the html\n",
    "\n",
    "import time                                           # for creating random delays among requests\n",
    "import numpy as np"
   ]
  },
  {
   "cell_type": "code",
   "execution_count": 2,
   "metadata": {},
   "outputs": [],
   "source": [
    "# the following Options setting code prevents the annoying \"https://www.facebook.com wants to \n",
    "# Show Notifications\" dialog box from showing.\n",
    "# Credit: https://stackoverflow.com/questions/38684175/how-to-click-allow-on-show-notifications-popup-using-selenium-webdriver\n",
    "option = Options()\n",
    "\n",
    "option.add_argument(\"--disable-infobars\")\n",
    "option.add_argument(\"start-maximized\")\n",
    "option.add_argument(\"--disable-extensions\")\n",
    "\n",
    "# Pass the argument 1 to allow and 2 to block\n",
    "option.add_experimental_option(\"prefs\", { \n",
    "    \"profile.default_content_setting_values.notifications\": 1\n",
    "})\n",
    "\n",
    "# you may download ChromeDriver from https://chromedriver.chromium.org/\n",
    "chrome_driver_path = r'G:\\ChromeDriver\\chromedriver.exe'     # point to your path\n",
    "driver = webdriver.Chrome(chrome_driver_path, options=option)"
   ]
  },
  {
   "cell_type": "code",
   "execution_count": 3,
   "metadata": {},
   "outputs": [],
   "source": [
    "driver.get('https://www.facebook.com')                # ask the browser to goto FB"
   ]
  },
  {
   "cell_type": "code",
   "execution_count": 4,
   "metadata": {},
   "outputs": [],
   "source": [
    "email_addr = 'youremail@youremail.com'                # your email\n",
    "pwd = 'yourfacebookpassword12345'                     # your password"
   ]
  },
  {
   "cell_type": "code",
   "execution_count": 5,
   "metadata": {},
   "outputs": [],
   "source": [
    "email_id_elem = driver.find_element_by_id('email')    # find the email address text box"
   ]
  },
  {
   "cell_type": "code",
   "execution_count": 6,
   "metadata": {},
   "outputs": [],
   "source": [
    "email_id_elem.send_keys(email_addr)                   # you should see your email appearing in text box\n",
    "                                                      # yeah, I know. It's like magic"
   ]
  },
  {
   "cell_type": "code",
   "execution_count": 7,
   "metadata": {},
   "outputs": [],
   "source": [
    "password_elem = driver.find_element_by_id('pass')     # find the password field... and...\n",
    "password_elem.send_keys(pwd)                          # fire the password to the field"
   ]
  },
  {
   "cell_type": "code",
   "execution_count": 8,
   "metadata": {},
   "outputs": [],
   "source": [
    "login_btn_elem = driver.find_element_by_name('login') # to login, find the login button... and...\n",
    "login_btn_elem.click()                                # click. That's it. It's magical, aint it.\n",
    "\n",
    "time.sleep(5)                                         # give it some time to log in..."
   ]
  },
  {
   "cell_type": "markdown",
   "metadata": {},
   "source": [
    "# Step 2. The FUN part begins!\n",
    "\n",
    "By now, you should have logged in Facebook successfully in the Chrome Driver window.\n",
    "\n",
    "This is the part where we:\n",
    "\n",
    "1. Go to the Authentic Thai Cooking group URL: https://www.facebook.com/groups/authenticthaicooking\n",
    "2. Scroll down until your mouse scroll buttons breaks. (_Actually we will do this using code, no worries_)\n",
    "3. Some longer posts are obscured by the \"See More\" links. We will click on all of them (_again, using code_) to make sure all of texts are displayed.\n",
    "\n",
    "Ready?"
   ]
  },
  {
   "cell_type": "code",
   "execution_count": 9,
   "metadata": {},
   "outputs": [],
   "source": [
    "# Step 2.1: Go to the Authentic Thai Cooking group\n",
    "\n",
    "fb_group_url = 'https://www.facebook.com/groups/authenticthaicooking'\n",
    "driver.get(fb_group_url)    # load up this group in the browser"
   ]
  },
  {
   "cell_type": "code",
   "execution_count": 10,
   "metadata": {},
   "outputs": [],
   "source": [
    "# Step 2.2: Scroll down until your mouse scroll buttons breaks (using code though)\n",
    "\n",
    "# The following code was modified from the great folks from Stack Overflow.\n",
    "# Credit: https://stackoverflow.com/questions/20986631/how-can-i-scroll-a-web-page-using-selenium-webdriver-in-python\n",
    "last_height = driver.execute_script(\"return document.body.scrollHeight\")        # Get scroll height\n",
    "\n",
    "N = 10\n",
    "for _ in range(N):                    # scroll down N times (change N to whatever you want, e.g. 100 times)\n",
    "                                      # the original code used 'while True:', but I do not want to run\n",
    "                                      # into the risk of infinite loops.\n",
    "\n",
    "    # Scroll down to bottom\n",
    "    driver.execute_script(\"window.scrollTo(0, document.body.scrollHeight);\")\n",
    "\n",
    "    # Wait to load page\n",
    "    SCROLL_PAUSE_TIME = np.random.uniform(1.0,3.0)\n",
    "    time.sleep(SCROLL_PAUSE_TIME)                  # pause between 1-3 seconds\n",
    "\n",
    "    # Calculate new scroll height and compare with last scroll height\n",
    "    new_height = driver.execute_script(\"return document.body.scrollHeight\")\n",
    "    if new_height == last_height:\n",
    "        break\n",
    "    last_height = new_height"
   ]
  },
  {
   "cell_type": "markdown",
   "metadata": {},
   "source": [
    "### Remember Step 2.3?\n",
    "\n",
    "![\"See More\" links](./images/see_more_click.png)\n",
    "\n",
    "We need to look for all annoying links with the \"See More\" texts, since there are obscuring the longer posts.\n",
    "\n",
    "We need to ask our computer to find all of these \"See More\" links, and click on all of them.\n",
    "\n",
    "But how do we find them? The answer is found when you right click on one of them, and select \"Inspect Element\".\n",
    "\n",
    "![ag](./images/see_more.png)\n",
    "\n",
    "Should be straight forward enough. We look for all ```<div>``` tags, that have ```role==button``` attributes. Then we click on them."
   ]
  },
  {
   "cell_type": "code",
   "execution_count": 11,
   "metadata": {},
   "outputs": [],
   "source": [
    "# Step 2.3: Some longer posts are obscured by the \"See More\" links. We will click on all of them\n",
    "\n",
    "javascript_cmd = '''\n",
    "    var elems = document.querySelectorAll('div[role=\"button\"]');          // select all div's with 'role = button' attribute\n",
    "    var see_more_btns = [...elems].filter(e => e.innerText == \"See More\") // filter down to \"See More\" buttons only\n",
    "    see_more_btns.forEach(e => e.click());                                // click all of them!    \n",
    "'''\n",
    "\n",
    "driver.execute_script(javascript_cmd)   # click all of them!"
   ]
  },
  {
   "cell_type": "markdown",
   "metadata": {},
   "source": [
    "## What? Javascript?!\n",
    "\n",
    "I know, I know. I lied when I implied we will be using Python only.\n",
    "\n",
    "This deserves some explanation.\n",
    "\n",
    "In theory, you should be able to click on those links programmatically by interfacing Python and Selenium. I tried that - doesn't work. I think it is Chromium Selenium driver bug, but there is nothing much I can do.\n",
    "\n",
    "Basically, the ```driver.execute_script()``` function does what it says: if you feedback Javascript code into it, it will run the Javascript code.\n",
    "\n",
    "After cobbling up some poorly written JS in Chrome's JS console, I found a way to select all those links, and click on them. \n",
    "\n",
    "Problem solved. But please pardon my poor JS skills though. 🙂\n",
    "\n",
    "Let's move on to Step 3!"
   ]
  },
  {
   "cell_type": "markdown",
   "metadata": {},
   "source": [
    "# Step 3: Find all the delicious posts, and harvest the posts' texts\n",
    "\n",
    "Next, with all the posts/data we need loaded in the HTML, we can use ```BeautifulSoup``` to parse the HTML tags. (_We could have used Selenium's functions, but I find using ```BeautifulSoup``` easier_)"
   ]
  },
  {
   "cell_type": "code",
   "execution_count": 12,
   "metadata": {},
   "outputs": [
    {
     "data": {
      "text/plain": [
       "'<!DOCTYPE html><html xmlns=\"http://www.w3.org/1999/xhtml\" id=\"facebook\" class=\"_9dls __fb-dark-mode\"'"
      ]
     },
     "execution_count": 12,
     "metadata": {},
     "output_type": "execute_result"
    }
   ],
   "source": [
    "page_html = driver.page_source    # get the page source/HTML\n",
    "page_html[:100]                   # display first 100 chars, for sense checking"
   ]
  },
  {
   "cell_type": "code",
   "execution_count": 13,
   "metadata": {},
   "outputs": [],
   "source": [
    "soup = BeautifulSoup(page_html, 'lxml')    # we could have used 'html.parser', but 'lxml' is reportedly way faster"
   ]
  },
  {
   "cell_type": "markdown",
   "metadata": {},
   "source": [
    "Next, we need to understand how FB structures their HTML code. Otherwise we will have a hard time harvesting the posts' texts\n",
    "\n",
    "Again, our best friend here is Chrome's Javascript console (just press F12 on your browser window).\n",
    "\n",
    "To cut a looooooong story short, I found out FB structures their HTML (roughly) this way:\n",
    "\n",
    "<div align=\"center\">\n",
    "    <img src='./images/3.png' width=1000>   <!-- Markdown doesn't allow centering of images :( -->\n",
    "</div>\n",
    "\n",
    "Now that we know how (a little) about how the HTML document is structured, it seems to be fairly easy to find the posts' texts.\n",
    "\n",
    "1. Find the 'Page Feed' element.\n",
    "2. Under the 'Page Feed' element, find all the 'Article' elements.\n",
    "3. Under each 'Article' element, find the post texts buried deep in there.\n",
    "\n",
    "Simple enough?"
   ]
  },
  {
   "cell_type": "code",
   "execution_count": 14,
   "metadata": {},
   "outputs": [],
   "source": [
    "feed_elem = soup.find('div', {'role':'feed'})    # find the posts feed (all articles/posts are under it)"
   ]
  },
  {
   "cell_type": "code",
   "execution_count": 15,
   "metadata": {},
   "outputs": [
    {
     "data": {
      "text/plain": [
       "100"
      ]
     },
     "execution_count": 15,
     "metadata": {},
     "output_type": "execute_result"
    }
   ],
   "source": [
    "article_elems = feed_elem.find_all('div', {'role':'article'})  # find all articles/posts\n",
    "len(article_elems)"
   ]
  },
  {
   "cell_type": "code",
   "execution_count": 23,
   "metadata": {},
   "outputs": [
    {
     "name": "stdout",
     "output_type": "stream",
     "text": [
      "-----[ Post #   1 ]-----\n",
      "Shiitake, Oyster & King Oyster Mushrooms w/ Crispy Noodle for dinner. #homemadefoodswithlove #itsallaboutmushrooms I followed Marion Grasby; https://m.youtube.com/watch?v=CJbkoeQbxUY mmmm crunchy noodles soaked with mushroom sauce!\n",
      "\n",
      "-----[ Post #   2 ]-----\n",
      "mmmm crunchy noodles soaked with mushroom sauce!\n",
      "\n",
      "-----[ Post #   4 ]-----\n",
      "I don't know if you guys keep up with the new trend but these fried Thai Chili Peppers have become a super hot trend n in high demand!  I didn't want to buy them for a hefty price anymore so I decided to make them myself!!!  IT IS A LOT OF WORK... VERY TEDIOUS N TIME CONSUMING!!!  OMG...BUT THEY'RE SO YUMMY FOR SNACKING!!! I love it. Would be nice if it was a little spicy. It’s not spicy but very flavorful.  Recipe please\n",
      "\n",
      "-----[ Post #   5 ]-----\n",
      "I love it. Would be nice if it was a little spicy. It’s not spicy but very flavorful. \n",
      "\n",
      "-----[ Post #   6 ]-----\n",
      "Recipe please\n",
      "\n",
      "-----[ Post #   7 ]-----\n",
      "Who wants to salivate?… Thai tamarind. Yummm One of my favorites!!\n",
      "\n",
      "-----[ Post #   8 ]-----\n",
      "Yummm\n",
      "\n",
      "-----[ Post #   9 ]-----\n",
      "One of my favorites!!\n",
      "\n",
      "-----[ Post #  10 ]-----\n",
      "I remember my dad taking us to a Sugarcane Farm in Thailand. They gave us kids a small piece of Sugarcane... I remember eating that at my grandmother’s place out in the country in Thailand.  We used to grow sweet potato, mango, sugarcane in our backyard here in Pontianak, West Borneo, Indonesia. I love sugarcane.\n",
      "\n"
     ]
    }
   ],
   "source": [
    "all_posts = []    # list to hold all the posts' texts\n",
    "\n",
    "for i, article in enumerate(article_elems):\n",
    "    \n",
    "    # dir=\"auto\" style=\"text-align: start;\"\n",
    "    div_xpath = r\".//div[contains(@dir,'auto')]\"\n",
    "    divs = article.find_all('div', {'dir':'auto', 'style':'text-align: start;'})\n",
    "    \n",
    "    post_text = ' '.join([div.text for div in divs])   # the post text, joined.\n",
    "    all_posts.append(post_text)\n",
    "    \n",
    "    if post_text and i < 10:                           # print out the first 10 posts texts, for your viewing pleasure\n",
    "        print(f'-----[ Post # {i+1:3d} ]-----')\n",
    "        print(post_text + '\\n')"
   ]
  },
  {
   "cell_type": "markdown",
   "metadata": {},
   "source": [
    "### We are almost done!\n",
    "\n",
    "So we have all the post texts stored in the ```all_posts``` list.\n",
    "\n",
    "But as good programmers, we always clean up unused resources."
   ]
  },
  {
   "cell_type": "code",
   "execution_count": 17,
   "metadata": {},
   "outputs": [],
   "source": [
    "# clean up\n",
    "driver.close()\n",
    "driver.quit()"
   ]
  },
  {
   "cell_type": "markdown",
   "metadata": {},
   "source": [
    "# Step 4. You have the data... So...\n",
    "\n",
    "There are so many possible things you can do with the data. For example, doing Natural Language Processing stuffs.\n",
    "\n",
    "Here is an example below, thanks to the good folks at [Parallel Dots](https://www.paralleldots.com/text-analysis-apis). Do play with their demo, and try out the free API tier.\n",
    "\n",
    "![Parallel Dots Demo](./images/parallel_dots_demo.png)\n",
    "\n",
    "If you don't want to deal with API's, I also included some quick examples of simple Sentiment Analysis, using the ```TextBlob``` package."
   ]
  },
  {
   "cell_type": "code",
   "execution_count": 24,
   "metadata": {},
   "outputs": [],
   "source": [
    "from textblob import TextBlob"
   ]
  },
  {
   "cell_type": "code",
   "execution_count": 25,
   "metadata": {},
   "outputs": [],
   "source": [
    "sentiments = []\n",
    "\n",
    "for post in all_posts:\n",
    "    blob = TextBlob(post)\n",
    "    sentiments.append(blob.sentiment.polarity)"
   ]
  },
  {
   "cell_type": "code",
   "execution_count": 26,
   "metadata": {},
   "outputs": [
    {
     "data": {
      "image/png": "[encoded data removed]",
      "text/plain": [
       "<Figure size 432x288 with 1 Axes>"
      ]
     },
     "metadata": {
      "needs_background": "light"
     },
     "output_type": "display_data"
    }
   ],
   "source": [
    "import matplotlib.pyplot as plt        # for making beautiful graphs\n",
    "\n",
    "plt.hist(sentiments, bins=10)          # show the sentiment dist via histogram\n",
    "plt.axvline(np.mean(sentiments),       # show the average sentiment value\n",
    "            color='black',\n",
    "            linestyle='--')   \n",
    "plt.title('Sentiment Distribution of Authentic Thai Food Group Posts')\n",
    "plt.ylabel('Frequency')\n",
    "plt.xlabel('Sentiment Value');"
   ]
  },
  {
   "cell_type": "markdown",
   "metadata": {},
   "source": [
    "Don't we all love ```Matplotlib```?\n",
    "\n",
    "Well, if you want to try play mind voodoo tricks on your boss, try ```Matplotlib``` with xkcd style!"
   ]
  },
  {
   "cell_type": "code",
   "execution_count": 28,
   "metadata": {},
   "outputs": [
    {
     "data": {
      "image/png": "[encoded data removed]",
      "text/plain": [
       "<Figure size 432x288 with 1 Axes>"
      ]
     },
     "metadata": {},
     "output_type": "display_data"
    }
   ],
   "source": [
    "with plt.xkcd():                       # don't do the XKCD style at work!\n",
    "    plt.hist(sentiments, bins=10)      # show the sentiment dist via histogram\n",
    "    plt.axvline(np.mean(sentiments),   # show the average sentiment value\n",
    "                color='black',\n",
    "                linestyle='--')   \n",
    "    plt.title('Sentiment Distribution of Authentic Thai Food Group Posts')\n",
    "    plt.ylabel('Frequency')\n",
    "    plt.xlabel('Sentiment Value');"
   ]
  },
  {
   "cell_type": "code",
   "execution_count": 29,
   "metadata": {},
   "outputs": [
    {
     "name": "stdout",
     "output_type": "stream",
     "text": [
      "61.0% of posts were having positive sentiments.\n"
     ]
    }
   ],
   "source": [
    "percent_positive = np.mean(np.array(sentiments) > 0)\n",
    "\n",
    "print(f'{percent_positive:.1%} of posts were having positive sentiments.')"
   ]
  },
  {
   "cell_type": "markdown",
   "metadata": {},
   "source": [
    "# Thanks for Reading!\n",
    "\n",
    "With a few lines of code, we now understand better the sentiment distribution of the group's posts.\n",
    "\n",
    "If you like this tutorial, please share it with a friend. 😀\n",
    "\n",
    "As I mentioned earlier, there are tonnes of interesting stuffs we can do with these data. There are so much insights in text data that I feel are underutilized even nowadays. Let's change that.\n",
    "\n",
    "But that will be material for a separate tutorial. 😀\n",
    "\n",
    "See ya 😀"
   ]
  }
 ],
 "metadata": {
  "kernelspec": {
   "display_name": "Python 3",
   "language": "python",
   "name": "python3"
  },
  "language_info": {
   "codemirror_mode": {
    "name": "ipython",
    "version": 3
   },
   "file_extension": ".py",
   "mimetype": "text/x-python",
   "name": "python",
   "nbconvert_exporter": "python",
   "pygments_lexer": "ipython3",
   "version": "3.7.9"
  }
 },
 "nbformat": 4,
 "nbformat_minor": 4
}
